{
  "nbformat": 4,
  "nbformat_minor": 0,
  "metadata": {
    "colab": {
      "provenance": []
    },
    "kernelspec": {
      "name": "python3",
      "display_name": "Python 3"
    },
    "language_info": {
      "name": "python"
    }
  },
  "cells": [
    {
      "cell_type": "code",
      "execution_count": 3,
      "metadata": {
        "id": "4XMGekbu8EDe"
      },
      "outputs": [],
      "source": [
        "import re\n",
        "\n",
        "# Read the data file\n",
        "with open('/content/training_data.txt', 'r') as file:\n",
        "    lines = file.readlines()\n",
        "\n",
        "heroes_info = {}\n",
        "\n",
        "# Loop over all the training data\n",
        "for line in lines:\n",
        "    \n",
        "    game_data = line.strip().split(',')\n",
        "    winner = int(game_data[-1])\n",
        "    \n",
        "    if winner == 1:\n",
        "        for i, hero in enumerate(game_data[:-1]):\n",
        "            hero = re.sub(r'[^a-zA-Z]', ' ', hero)\n",
        "            # if hero key not in heroes_info create it with empty data\n",
        "            if hero not in heroes_info:\n",
        "                heroes_info[hero] = {\n",
        "                    'played': 0,\n",
        "                    'won': 0,\n",
        "                    'lost': 0\n",
        "                }\n",
        "            \n",
        "            # for the first five heroes\n",
        "            if i // 5 == 0:\n",
        "                heroes_info[hero]['played'] += 1\n",
        "                heroes_info[hero]['won'] += 1\n",
        "            else:\n",
        "                heroes_info[hero]['played'] += 1\n",
        "                heroes_info[hero]['lost'] += 1\n",
        "    else:\n",
        "        for i, hero in enumerate(game_data[:-1]):\n",
        "            # if hero key not in heroes_info create it with empty data\n",
        "            if hero not in heroes_info:\n",
        "                heroes_info[hero] = {\n",
        "                    'played': 0,\n",
        "                    'won': 0,\n",
        "                    'lost': 0\n",
        "                }\n",
        "            \n",
        "            # for the first five heroes\n",
        "            if i // 5 == 1:\n",
        "                heroes_info[hero]['played'] += 1\n",
        "                heroes_info[hero]['won'] += 1\n",
        "            else:\n",
        "                heroes_info[hero]['played'] += 1\n",
        "                heroes_info[hero]['lost'] += 1\n",
        "\n",
        "for hero, data in heroes_info.items():\n",
        "    heroes_info[hero]['win_percentage'] = round(data['won']/data['played'], 4)"
      ]
    },
    {
      "cell_type": "code",
      "source": [
        "# Read the data file\n",
        "with open('/content/training_data.txt', 'r') as file:\n",
        "    lines = file.readlines()\n",
        "\n",
        "X1 = []\n",
        "X2 = []\n",
        "y = []\n",
        "\n",
        "# Loop over all the training data\n",
        "for line in lines:\n",
        "    \n",
        "    game_data = line.strip().split(',')\n",
        "    y.append(int(game_data[-1]) - 1)\n",
        "    \n",
        "    if winner == 1:\n",
        "      team_one = []\n",
        "      team_two = []\n",
        "      for i, hero in enumerate(game_data[:-1]):\n",
        "          hero = re.sub(r'[^a-zA-Z]', ' ', hero)\n",
        "          # for the first five heroes\n",
        "          if i // 5 == 0:\n",
        "              team_one.append(heroes_info[hero]['win_percentage'])\n",
        "          else:\n",
        "              team_two.append(heroes_info[hero]['win_percentage'])\n",
        "\n",
        "      X1.append(team_one)\n",
        "      X2.append(team_two)\n",
        "    else:\n",
        "      team_one = []\n",
        "      team_two = []\n",
        "      for i, hero in enumerate(game_data[:-1]):\n",
        "          hero = re.sub(r'[^a-zA-Z]', ' ', hero)\n",
        "          # for the first five heroes\n",
        "          if i // 5 == 1:\n",
        "              team_two.append(heroes_info[hero]['win_percentage'])\n",
        "          else:\n",
        "              team_one.append(heroes_info[hero]['win_percentage'])\n",
        "\n",
        "      X1.append(team_one)\n",
        "      X2.append(team_two)"
      ],
      "metadata": {
        "id": "2-y1s4Fg84FC"
      },
      "execution_count": 4,
      "outputs": []
    },
    {
      "cell_type": "code",
      "source": [
        "len(X1), len(X2), len(y)"
      ],
      "metadata": {
        "colab": {
          "base_uri": "https://localhost:8080/"
        },
        "id": "yXTNWsUKhYtm",
        "outputId": "6239de7f-2426-4db7-9561-1518deed225f"
      },
      "execution_count": 7,
      "outputs": [
        {
          "output_type": "execute_result",
          "data": {
            "text/plain": [
              "(15000, 15000, 15000)"
            ]
          },
          "metadata": {},
          "execution_count": 7
        }
      ]
    },
    {
      "cell_type": "code",
      "source": [
        "import numpy as np"
      ],
      "metadata": {
        "id": "oSwEo9Fshag2"
      },
      "execution_count": 8,
      "outputs": []
    },
    {
      "cell_type": "code",
      "source": [
        "X1 = np.array(X1)\n",
        "X2 = np.array(X1)\n",
        "y = np.array(y)"
      ],
      "metadata": {
        "id": "2elCiTOihnbZ"
      },
      "execution_count": 9,
      "outputs": []
    },
    {
      "cell_type": "code",
      "source": [
        "X1.shape, X2.shape, y.shape"
      ],
      "metadata": {
        "colab": {
          "base_uri": "https://localhost:8080/"
        },
        "id": "n3wb-IOqhuCk",
        "outputId": "566d2a2c-4382-4e39-876c-2f86510bae2d"
      },
      "execution_count": 10,
      "outputs": [
        {
          "output_type": "execute_result",
          "data": {
            "text/plain": [
              "((15000, 5), (15000, 5), (15000,))"
            ]
          },
          "metadata": {},
          "execution_count": 10
        }
      ]
    },
    {
      "cell_type": "markdown",
      "source": [
        "#### Build model"
      ],
      "metadata": {
        "id": "BbTCgKwPhzsn"
      }
    },
    {
      "cell_type": "code",
      "source": [
        "import tensorflow as tf"
      ],
      "metadata": {
        "id": "_d5zENENhwsE"
      },
      "execution_count": 11,
      "outputs": []
    },
    {
      "cell_type": "code",
      "source": [
        "input1 = tf.keras.Input(shape=(5,), name='input1')\n",
        "dens1 = tf.keras.layers.Dense(4, activation='relu')(input1)\n",
        "dens1 = tf.keras.layers.Dense(2, activation='relu')(dens1)\n",
        "\n",
        "input2 = tf.keras.Input(shape=(5,), name='input2')\n",
        "dens2 = tf.keras.layers.Dense(4, activation='relu')(input2)\n",
        "dens2 = tf.keras.layers.Dense(2, activation='relu')(dens2)\n",
        "\n",
        "x = tf.keras.layers.concatenate([dens1, dens2], axis=1)\n",
        "\n",
        "X = tf.keras.layers.Dense(4, activation='relu')(x)\n",
        "X = tf.keras.layers.Dense(2, activation='relu')(x)\n",
        "\n",
        "output = tf.keras.layers.Dense(1, activation='sigmoid')(x)\n",
        "\n",
        "model = tf.keras.models.Model(inputs=[input1, input2], outputs=output)\n",
        "\n",
        "model.summary()"
      ],
      "metadata": {
        "colab": {
          "base_uri": "https://localhost:8080/"
        },
        "id": "Fj_2kJHah4Hd",
        "outputId": "05185d96-8ed7-4ea0-ee83-ba1fd28d0fec"
      },
      "execution_count": 12,
      "outputs": [
        {
          "output_type": "stream",
          "name": "stdout",
          "text": [
            "Model: \"model\"\n",
            "__________________________________________________________________________________________________\n",
            " Layer (type)                   Output Shape         Param #     Connected to                     \n",
            "==================================================================================================\n",
            " input1 (InputLayer)            [(None, 5)]          0           []                               \n",
            "                                                                                                  \n",
            " input2 (InputLayer)            [(None, 5)]          0           []                               \n",
            "                                                                                                  \n",
            " dense (Dense)                  (None, 4)            24          ['input1[0][0]']                 \n",
            "                                                                                                  \n",
            " dense_2 (Dense)                (None, 4)            24          ['input2[0][0]']                 \n",
            "                                                                                                  \n",
            " dense_1 (Dense)                (None, 2)            10          ['dense[0][0]']                  \n",
            "                                                                                                  \n",
            " dense_3 (Dense)                (None, 2)            10          ['dense_2[0][0]']                \n",
            "                                                                                                  \n",
            " concatenate (Concatenate)      (None, 4)            0           ['dense_1[0][0]',                \n",
            "                                                                  'dense_3[0][0]']                \n",
            "                                                                                                  \n",
            " dense_6 (Dense)                (None, 1)            5           ['concatenate[0][0]']            \n",
            "                                                                                                  \n",
            "==================================================================================================\n",
            "Total params: 73\n",
            "Trainable params: 73\n",
            "Non-trainable params: 0\n",
            "__________________________________________________________________________________________________\n"
          ]
        }
      ]
    },
    {
      "cell_type": "code",
      "source": [
        "model.compile(\n",
        "    optimizer=tf.keras.optimizers.RMSprop(),\n",
        "    loss=tf.keras.losses.BinaryCrossentropy(),\n",
        "    metrics=[tf.keras.metrics.Accuracy()]\n",
        ")"
      ],
      "metadata": {
        "id": "iU03oDimjeKY"
      },
      "execution_count": 13,
      "outputs": []
    },
    {
      "cell_type": "code",
      "source": [
        "history = model.fit([X1, X2], y, epochs=10)"
      ],
      "metadata": {
        "colab": {
          "base_uri": "https://localhost:8080/"
        },
        "id": "ueF9DffCj7_N",
        "outputId": "ae06e899-1636-4a47-c797-79d1fc1a1617"
      },
      "execution_count": 15,
      "outputs": [
        {
          "output_type": "stream",
          "name": "stdout",
          "text": [
            "Epoch 1/10\n",
            "469/469 [==============================] - 1s 2ms/step - loss: 0.6920 - accuracy: 0.0000e+00\n",
            "Epoch 2/10\n",
            "469/469 [==============================] - 1s 2ms/step - loss: 0.6920 - accuracy: 0.0000e+00\n",
            "Epoch 3/10\n",
            "469/469 [==============================] - 1s 2ms/step - loss: 0.6919 - accuracy: 0.0000e+00\n",
            "Epoch 4/10\n",
            "469/469 [==============================] - 1s 2ms/step - loss: 0.6919 - accuracy: 0.0000e+00\n",
            "Epoch 5/10\n",
            "469/469 [==============================] - 1s 2ms/step - loss: 0.6918 - accuracy: 0.0000e+00\n",
            "Epoch 6/10\n",
            "469/469 [==============================] - 1s 2ms/step - loss: 0.6917 - accuracy: 0.0000e+00\n",
            "Epoch 7/10\n",
            "469/469 [==============================] - 1s 2ms/step - loss: 0.6917 - accuracy: 0.0000e+00\n",
            "Epoch 8/10\n",
            "469/469 [==============================] - 1s 2ms/step - loss: 0.6915 - accuracy: 0.0000e+00\n",
            "Epoch 9/10\n",
            "469/469 [==============================] - 1s 2ms/step - loss: 0.6915 - accuracy: 0.0000e+00\n",
            "Epoch 10/10\n",
            "469/469 [==============================] - 1s 2ms/step - loss: 0.6914 - accuracy: 0.0000e+00\n"
          ]
        }
      ]
    },
    {
      "cell_type": "code",
      "source": [
        "input = 'Sven,Lone Druid,Venomancer,Clockwerk,Shadow Shaman,Invoker,Gyrocopter,Anti-Mage,Alchemist,Slark'\n",
        "line = input.strip().split(',')\n",
        "t1 = line[:5]\n",
        "t2 = line[5:]\n",
        "\n",
        "X1 = []\n",
        "for h in t1:\n",
        "    X1.append(heroes_info[h]['win_percentage'])\n",
        "\n",
        "X2 = []\n",
        "for h in t2:\n",
        "    X2.append(heroes_info[h]['win_percentage'])\n",
        "\n",
        "X1 = np.array([X1])\n",
        "X2 = np.array([X2])\n",
        "\n",
        "prediction = model.predict([X1, X2])\n",
        "\n",
        "if prediction[0][0] > 0.5:\n",
        "  print(2)\n",
        "else:\n",
        "  print(1)"
      ],
      "metadata": {
        "colab": {
          "base_uri": "https://localhost:8080/"
        },
        "id": "hmzrlTPAkDLO",
        "outputId": "7d7bb7ae-9c19-4e88-ddd7-d2561fceb0e0"
      },
      "execution_count": 20,
      "outputs": [
        {
          "output_type": "stream",
          "name": "stdout",
          "text": [
            "1\n"
          ]
        }
      ]
    },
    {
      "cell_type": "code",
      "source": [],
      "metadata": {
        "id": "rzcGrjoCmD0x"
      },
      "execution_count": null,
      "outputs": []
    }
  ]
}